{
 "cells": [
  {
   "cell_type": "code",
   "execution_count": 1,
   "metadata": {},
   "outputs": [],
   "source": [
    "from fastai import *\n",
    "from fastai.text import *\n",
    "from fastai.datasets import *\n",
    "from pathlib import Path\n",
    "import html\n",
    "import fastai"
   ]
  },
  {
   "cell_type": "code",
   "execution_count": 2,
   "metadata": {},
   "outputs": [],
   "source": [
    "torch.manual_seed(1)\n",
    "torch.cuda.manual_seed(1)\n",
    "np.random.seed(1)\n",
    "random.seed(1)\n",
    "torch.backends.cudnn.deterministic=True"
   ]
  },
  {
   "cell_type": "code",
   "execution_count": 3,
   "metadata": {},
   "outputs": [
    {
     "name": "stdout",
     "output_type": "stream",
     "text": [
      "Cuda available\n",
      "PyTorch version:  1.0.0.dev20190320\n"
     ]
    }
   ],
   "source": [
    "# Check that the latest 1.0.0 build of PyTorch has been installed \n",
    "# alongside fastai\n",
    "import torch\n",
    "print(\"Cuda available\" if torch.cuda.is_available() is True else \"CPU\")\n",
    "print(\"PyTorch version: \", torch.__version__)"
   ]
  },
  {
   "cell_type": "code",
   "execution_count": 4,
   "metadata": {},
   "outputs": [],
   "source": [
    "PATH=Path('/home/dell/Code/fastai_examples/pubmed-rct-200k/')\n",
    "PATH.mkdir(exist_ok=True)\n",
    "DATA_PATH=Path('/home/dell/Code/fastai_examples/data/pubmed-rct-200k')\n",
    "DATA_PATH.mkdir(exist_ok=True)"
   ]
  },
  {
   "cell_type": "code",
   "execution_count": 5,
   "metadata": {},
   "outputs": [],
   "source": [
    "#path = untar_data(\"http://files.fast.ai/data/examples/imdb_sample.tgz\",dest=DATA_PATH)\n",
    "#path = Path('/home/dell/Code/fastai_examples/data/imdb_sample/')"
   ]
  },
  {
   "cell_type": "code",
   "execution_count": 63,
   "metadata": {},
   "outputs": [],
   "source": [
    "dataProcess = False\n",
    "modelTrain = True"
   ]
  },
  {
   "cell_type": "code",
   "execution_count": 64,
   "metadata": {},
   "outputs": [],
   "source": [
    "if dataProcess:\n",
    "    testData = pd.read_csv(DATA_PATH/'test.txt', sep=\"\\t\", header=None, comment='#')\n",
    "    testData.columns = [\"label\", \"text\"]\n",
    "    testData.dropna(inplace=True)\n",
    "    testData.head()"
   ]
  },
  {
   "cell_type": "code",
   "execution_count": 65,
   "metadata": {},
   "outputs": [],
   "source": [
    "if dataProcess:\n",
    "    trainData = pd.read_csv(DATA_PATH/'train.txt', sep=\"\\t\", header=None, comment='#')\n",
    "    trainData.columns = [\"label\", \"text\"]\n",
    "    trainData.dropna(inplace=True)\n",
    "    trainData.head()"
   ]
  },
  {
   "cell_type": "code",
   "execution_count": 66,
   "metadata": {},
   "outputs": [],
   "source": [
    "import pixiedust"
   ]
  },
  {
   "cell_type": "code",
   "execution_count": 67,
   "metadata": {
    "pixiedust": {
     "displayParams": {}
    }
   },
   "outputs": [
    {
     "name": "stderr",
     "output_type": "stream",
     "text": [
      "/home/dell/anaconda3/lib/python3.7/site-packages/torch/serialization.py:452: SourceChangeWarning: source code of class 'torch.nn.modules.loss.CrossEntropyLoss' has changed. you can retrieve the original source code by accessing the object's source attribute or set `torch.nn.Module.dump_patches = True` and use the patch tool to revert the changes.\n",
      "  warnings.warn(msg, SourceChangeWarning)\n"
     ]
    }
   ],
   "source": [
    "#%%pixie_debugger\n",
    "\n",
    "if dataProcess:\n",
    "  # Language model data\n",
    "  data_lm = TextLMDataBunch.from_df(PATH,train_df=trainData, valid_df = testData)\n",
    "  data_lm.save(PATH/'data_lm_export.pkl')\n",
    "  # Classifier model data\n",
    "  data_clas = TextClasDataBunch.from_df(PATH, train_df=trainData,valid_df = testData , \\\n",
    "                                        vocab=data_lm.train_ds.vocab, bs=32)\n",
    "  data_clas.save(PATH/'data_clas_export.pkl')\n",
    "else:\n",
    "  data_lm = load_data(PATH, file='data_lm_export.pkl')\n",
    "  data_clas = load_data(PATH, file='data_clas_export.pkl', bs=16)"
   ]
  },
  {
   "cell_type": "code",
   "execution_count": 68,
   "metadata": {
    "scrolled": true
   },
   "outputs": [
    {
     "data": {
      "text/html": [],
      "text/plain": [
       "<IPython.core.display.HTML object>"
      ]
     },
     "metadata": {},
     "output_type": "display_data"
    },
    {
     "name": "stdout",
     "output_type": "stream",
     "text": [
      "LR Finder is complete, type {learner_name}.recorder.plot() to see the graph.\n"
     ]
    },
    {
     "data": {
      "image/png": "[encoded data removed]",
      "text/plain": [
       "<Figure size 432x288 with 1 Axes>"
      ]
     },
     "metadata": {
      "needs_background": "light"
     },
     "output_type": "display_data"
    }
   ],
   "source": [
    "if modelTrain:\n",
    "    learn = language_model_learner(data_lm, AWD_LSTM, drop_mult=0.5, pretrained=False)\n",
    "    learn.lr_find()\n",
    "    learn.recorder.plot()"
   ]
  },
  {
   "cell_type": "code",
   "execution_count": 69,
   "metadata": {
    "scrolled": true
   },
   "outputs": [
    {
     "data": {
      "text/html": [
       "Total time: 55:36 <p><table border=\"1\" class=\"dataframe\">\n",
       "  <thead>\n",
       "    <tr style=\"text-align: left;\">\n",
       "      <th>epoch</th>\n",
       "      <th>train_loss</th>\n",
       "      <th>valid_loss</th>\n",
       "      <th>accuracy</th>\n",
       "      <th>time</th>\n",
       "    </tr>\n",
       "  </thead>\n",
       "  <tbody>\n",
       "    <tr>\n",
       "      <td>0</td>\n",
       "      <td>3.204423</td>\n",
       "      <td>3.094609</td>\n",
       "      <td>0.439030</td>\n",
       "      <td>55:36</td>\n",
       "    </tr>\n",
       "  </tbody>\n",
       "</table>"
      ],
      "text/plain": [
       "<IPython.core.display.HTML object>"
      ]
     },
     "metadata": {},
     "output_type": "display_data"
    }
   ],
   "source": [
    "if modelTrain:\n",
    "    preTrainedWt103Path = Path('/home/dell/Code/fastai_examples/data/models/wt103')\n",
    "    learn = language_model_learner(data_lm, AWD_LSTM, drop_mult=0.5, pretrained=False)\n",
    "    learn.load_pretrained(wgts_fname = preTrainedWt103Path/'fwd_wt103.h5', itos_fname = preTrainedWt103Path/'itos_wt103.pkl', strict=False )\n",
    "    learn.fit_one_cycle(1, 1e-2)\n",
    "    pathModel = learn.save(PATH/\"trained_model_pubmed_ep1\")\n",
    "else:\n",
    "    learn = language_model_learner(data_lm, AWD_LSTM, drop_mult=0.5, pretrained=False)\n",
    "    learn.load(PATH/\"trained_model_pubmed_ep1\")"
   ]
  },
  {
   "cell_type": "code",
   "execution_count": 70,
   "metadata": {},
   "outputs": [
    {
     "name": "stdout",
     "output_type": "stream",
     "text": [
      "1.0.52.dev0\n"
     ]
    }
   ],
   "source": [
    "print(fastai.__version__)"
   ]
  },
  {
   "cell_type": "code",
   "execution_count": 71,
   "metadata": {
    "pixiedust": {
     "displayParams": {}
    }
   },
   "outputs": [],
   "source": [
    "#%%pixie_debugger\n",
    "#learn.predict(\"TP53 is an important gene \", n_words=30)"
   ]
  },
  {
   "cell_type": "code",
   "execution_count": 72,
   "metadata": {},
   "outputs": [],
   "source": [
    "x_inp = [\"i like apples\",\n",
    "         \"i want to buy some apples\",\n",
    "         \"where is your cell phone\"]"
   ]
  },
  {
   "cell_type": "code",
   "execution_count": 73,
   "metadata": {},
   "outputs": [],
   "source": [
    "x_inp2 = [\"i like apples and oranges\",\n",
    "         \"i hate all fruits especially apples and oranges\",\n",
    "         \"i am going to buy some apples and oranges\"]"
   ]
  },
  {
   "cell_type": "code",
   "execution_count": 74,
   "metadata": {},
   "outputs": [],
   "source": [
    "x_inp3 = [\"let's talk about fruits for a second. Apples are nice. Oranges too. I kinda like them.\",\n",
    "         \"i compared the prices of apples and oranges at walmart and kroger stores\",\n",
    "         \"oh you wanna talk about apples. sure. i am not sure if i have said this before but i do like them and oranges.\"]"
   ]
  },
  {
   "cell_type": "code",
   "execution_count": 91,
   "metadata": {},
   "outputs": [],
   "source": [
    "x_inp4 = [\"acupuncture has no systemic hazard for pregnancy\",\n",
    "         \"anxiety might have harmful effects for pregnancy\",\n",
    "         \"anxiety is bad for pregnancy\"]"
   ]
  },
  {
   "cell_type": "code",
   "execution_count": 92,
   "metadata": {},
   "outputs": [],
   "source": [
    "x_inp5 = [\"protein\",\n",
    "         \"gene\",\n",
    "         \"cell\",\n",
    "         \"asthma\",\n",
    "         \"lung\"]"
   ]
  },
  {
   "cell_type": "code",
   "execution_count": 191,
   "metadata": {},
   "outputs": [],
   "source": [
    "'''\n",
    "P53 and CDKN1A together in TP53 pathway\n",
    "CDKN1A and CREB3 together in Parathyroid hormone synthesis, secretion and action pathway\n",
    "'''\n",
    "\n",
    "x_inp6_names = [\"P53\", \"CDKN1A\", \"Myoglobin\", \"CREB3\",\"Myosin-10\", \"PPP1R12A\"]\n",
    "\n",
    "x_inp6 = [\"Acts as a tumor suppressor in many tumor types; induces\\\n",
    "   growth arrest or apoptosis depending on the physiological\\\n",
    "   circumstances and cell type. Involved in cell cycle regulation as\\\n",
    "   a trans-activator that acts to negatively regulate cell division\\\n",
    "   by controlling a set of genes required for this process. One of\\\n",
    "   the activated genes is an inhibitor of cyclin-dependent kinases.\\\n",
    "   Apoptosis induction seems to be mediated either by stimulation of\\\n",
    "   BAX and FAS antigen expression, or by repression of Bcl-2\\\n",
    "   expression. In cooperation with mitochondrial PPIF is involved in\\\n",
    "   activating oxidative stress-induced necrosis; the function is\\\n",
    "   largely independent of transcription. Induces the transcription of\\\n",
    "   long intergenic non-coding RNA p21 (lincRNA-p21) and lincRNA-\\\n",
    "   Mkln1. LincRNA-p21 participates in TP53-dependent transcriptional\\\n",
    "   repression leading to apoptosis and seems to have an effect on\\\n",
    "   cell-cycle regulation. Implicated in Notch signaling cross-over.\\\n",
    "   Prevents CDK7 kinase activity when associated to CAK complex in\\\n",
    "   response to DNA damage, thus stopping cell cycle progression.\\\n",
    "   Isoform 2 enhances the transactivation activity of isoform 1 from\\\n",
    "   some but not all TP53-inducible promoters. Isoform 4 suppresses\\\n",
    "   transactivation activity and impairs growth suppression mediated\\\n",
    "   by isoform 1. Isoform 7 inhibits isoform 1-mediated apoptosis.\\\n",
    "   Regulates the circadian clock by repressing CLOCK-ARNTL/BMAL1-\\\n",
    "   mediated transcriptional activation of PER2\",\n",
    "         \n",
    "\"May be involved in p53/TP53 mediated inhibition of\\\n",
    "   cellular proliferation in response to DNA damage. Binds to and\\\n",
    "   inhibits cyclin-dependent kinase activity, preventing\\\n",
    "   phosphorylation of critical cyclin-dependent kinase substrates and\\\n",
    "   blocking cell cycle progression. Functions in the nuclear\\\n",
    "   localization and assembly of cyclin D-CDK4 complex and promotes\\\n",
    "   its kinase activity towards RB1. At higher stoichiometric ratios,\\\n",
    "   inhibits the kinase activity of the cyclin D-CDK4 complex.\\\n",
    "   Inhibits DNA synthesis by DNA polymerase delta by competing with\\\n",
    "   POLD3 for PCNA binding \"   ,\n",
    "          \n",
    "\"Serves as a reserve supply of oxygen and facilitates the\\\n",
    "   movement of oxygen within muscles.\",\n",
    "          \n",
    "          \"Endoplasmic reticulum (ER)-bound sequence-specific\\\n",
    "   transcription factor that directly binds DNA and activates\\\n",
    "   transcription . Plays a role in the unfolded\\\n",
    "   protein response (UPR), promoting cell survival versus ER stress-\\\n",
    "   induced apoptotic cell death .\\\n",
    "   Also involved in cell proliferation, migration and\\\n",
    "   differentiation, tumor suppression and inflammatory gene\\\n",
    "   expression. Acts as a positive regulator of LKN-1/CCL15-induced\\\n",
    "   chemotaxis signaling of leukocyte cell migration . Associates with chromatin to\\\n",
    "   the HERPUD1 promoter . Also induces\\\n",
    "   transcriptional activation of chemokine receptors\"\n",
    "         ,\n",
    "          \n",
    "          \"Cellular myosin that appears to play a role in\\\n",
    "cytokinesis, cell shape, and specialized functions such as\\\n",
    "secretion and capping. During cell spreading, plays an important\\\n",
    "role in cytoskeleton reorganization, focal contacts formation (in\\\n",
    "the margins but not the central part of spreading cells), and\\\n",
    "lamellipodial retraction; this function is mechanically\\\n",
    "antagonized by MYH9. \",\n",
    "          \n",
    "          \"Key regulator of protein phosphatase 1C (PPP1C).\\\n",
    "  Mediates binding to myosin. As part of the PPP1C complex, involved\\\n",
    "     in dephosphorylation of PLK1. Capable of inhibiting HIF1AN-\\\n",
    "     dependent suppression of HIF1A activity.\"\n",
    "          \n",
    "         ]\n"
   ]
  },
  {
   "cell_type": "code",
   "execution_count": 192,
   "metadata": {},
   "outputs": [],
   "source": [
    "similarity_test_input = x_inp6\n",
    "similarity_test_input_names = x_inp6_names"
   ]
  },
  {
   "cell_type": "code",
   "execution_count": 193,
   "metadata": {},
   "outputs": [],
   "source": [
    "import multiprocessing\n",
    "\n",
    "n_cpu = multiprocessing.cpu_count()\n"
   ]
  },
  {
   "cell_type": "code",
   "execution_count": 194,
   "metadata": {},
   "outputs": [],
   "source": [
    "tok = Tokenizer().process_all(partition_by_cores(similarity_test_input,n_cpu-1))"
   ]
  },
  {
   "cell_type": "code",
   "execution_count": 195,
   "metadata": {},
   "outputs": [],
   "source": [
    "X = [[data_lm.vocab.stoi[o1] for o1 in o if data_lm.vocab.stoi[o1] != 0] for o in tok];"
   ]
  },
  {
   "cell_type": "code",
   "execution_count": 196,
   "metadata": {},
   "outputs": [],
   "source": [
    "m = learn.model.train()"
   ]
  },
  {
   "cell_type": "code",
   "execution_count": 197,
   "metadata": {},
   "outputs": [
    {
     "data": {
      "text/plain": [
       "AWD_LSTM(\n",
       "  (encoder): Embedding(60003, 400, padding_idx=1)\n",
       "  (encoder_dp): EmbeddingDropout(\n",
       "    (emb): Embedding(60003, 400, padding_idx=1)\n",
       "  )\n",
       "  (rnns): ModuleList(\n",
       "    (0): WeightDropout(\n",
       "      (module): LSTM(400, 1150, batch_first=True)\n",
       "    )\n",
       "    (1): WeightDropout(\n",
       "      (module): LSTM(1150, 1150, batch_first=True)\n",
       "    )\n",
       "    (2): WeightDropout(\n",
       "      (module): LSTM(1150, 400, batch_first=True)\n",
       "    )\n",
       "  )\n",
       "  (input_dp): RNNDropout()\n",
       "  (hidden_dps): ModuleList(\n",
       "    (0): RNNDropout()\n",
       "    (1): RNNDropout()\n",
       "    (2): RNNDropout()\n",
       "  )\n",
       ")"
      ]
     },
     "execution_count": 197,
     "metadata": {},
     "output_type": "execute_result"
    }
   ],
   "source": [
    "m[0]"
   ]
  },
  {
   "cell_type": "code",
   "execution_count": 224,
   "metadata": {},
   "outputs": [],
   "source": [
    "#%%pixie_debugger\n",
    "# Set batch size to 1\n",
    "m[0].bs=1\n",
    "# Turn off dropout\n",
    "m.eval()\n",
    "# Reset hidden state\n",
    "m.reset()\n",
    "\n",
    "embeddings = []\n",
    "with torch.no_grad():\n",
    "    for sentence in X:\n",
    "        #resizeLength = len(x_inp4)\n",
    "        resizeLength = len(sentence[2:-2])\n",
    "        input_sentence = tensor(sentence[2:-2])\n",
    "        input_sentence.resize_(resizeLength,1)\n",
    "        # sentence encoding 400 dims. -1 is the last element that's supposed to have the final encoded state\n",
    "        tmpEmbded = m[0](input_sentence.cuda())\n",
    "        embeddings.append(tmpEmbded[0][2].mean(0)[-1])"
   ]
  },
  {
   "cell_type": "code",
   "execution_count": 225,
   "metadata": {},
   "outputs": [],
   "source": [
    "#kk0=m[0](input0.cuda())\n",
    "#kk1=m[0](input1.cuda())\n",
    "#kk2=m[0](input2.cuda())\n",
    "#kk3=m[0](input3.cuda())"
   ]
  },
  {
   "cell_type": "code",
   "execution_count": 226,
   "metadata": {},
   "outputs": [],
   "source": [
    "#kk0 = (kk0[0][2][0][-1]) # 1st sentence encoding 400 dims. -1 is the last element that's supposed to have the final encoded state\n",
    "#kk1 = (kk1[0][2][0][-1]) # 2nd sentence encoding 400 dims\n",
    "#kk2 = (kk2[0][2][0][-1]) # 3rd sentence encoding 400 dims\n",
    "#kk3 = (kk3[0][2][0][-1]) # 4rd sentence encoding 400 dims"
   ]
  },
  {
   "cell_type": "code",
   "execution_count": 227,
   "metadata": {},
   "outputs": [],
   "source": [
    "# cosine similarity - to check quality of our sentence encoder\n",
    "def cos_sim(v1,v2):\n",
    "    return F.cosine_similarity(tensor(v1).unsqueeze(0),tensor(v2).unsqueeze(0)).mean()"
   ]
  },
  {
   "cell_type": "code",
   "execution_count": 228,
   "metadata": {},
   "outputs": [
    {
     "data": {
      "text/plain": [
       "['P53', 'CDKN1A', 'Myoglobin', 'CREB3', 'Myosin-10', 'PPP1R12A']"
      ]
     },
     "execution_count": 228,
     "metadata": {},
     "output_type": "execute_result"
    }
   ],
   "source": [
    "similarity_test_input_names"
   ]
  },
  {
   "cell_type": "code",
   "execution_count": 230,
   "metadata": {},
   "outputs": [
    {
     "name": "stdout",
     "output_type": "stream",
     "text": [
      "P53... with .... P53\n",
      "1.0\n",
      "P53... with .... CDKN1A\n",
      "0.9022861123085022\n",
      "P53... with .... Myoglobin\n",
      "0.45885705947875977\n",
      "P53... with .... CREB3\n",
      "0.926720142364502\n",
      "P53... with .... Myosin-10\n",
      "0.7897999286651611\n",
      "P53... with .... PPP1R12A\n",
      "0.6927043199539185\n",
      "\n",
      "\n",
      "CDKN1A... with .... P53\n",
      "0.9022861123085022\n",
      "CDKN1A... with .... CDKN1A\n",
      "1.0\n",
      "CDKN1A... with .... Myoglobin\n",
      "0.2922537922859192\n",
      "CDKN1A... with .... CREB3\n",
      "0.9114949703216553\n",
      "CDKN1A... with .... Myosin-10\n",
      "0.6531807780265808\n",
      "CDKN1A... with .... PPP1R12A\n",
      "0.7770805358886719\n",
      "\n",
      "\n",
      "Myoglobin... with .... P53\n",
      "0.45885705947875977\n",
      "Myoglobin... with .... CDKN1A\n",
      "0.2922537922859192\n",
      "Myoglobin... with .... Myoglobin\n",
      "1.0\n",
      "Myoglobin... with .... CREB3\n",
      "0.3669407367706299\n",
      "Myoglobin... with .... Myosin-10\n",
      "0.5181853175163269\n",
      "Myoglobin... with .... PPP1R12A\n",
      "0.18204271793365479\n",
      "\n",
      "\n",
      "CREB3... with .... P53\n",
      "0.926720142364502\n",
      "CREB3... with .... CDKN1A\n",
      "0.9114949703216553\n",
      "CREB3... with .... Myoglobin\n",
      "0.3669407367706299\n",
      "CREB3... with .... CREB3\n",
      "1.0\n",
      "CREB3... with .... Myosin-10\n",
      "0.7642229199409485\n",
      "CREB3... with .... PPP1R12A\n",
      "0.6908844113349915\n",
      "\n",
      "\n",
      "Myosin-10... with .... P53\n",
      "0.7897999286651611\n",
      "Myosin-10... with .... CDKN1A\n",
      "0.6531807780265808\n",
      "Myosin-10... with .... Myoglobin\n",
      "0.5181853175163269\n",
      "Myosin-10... with .... CREB3\n",
      "0.7642229199409485\n",
      "Myosin-10... with .... Myosin-10\n",
      "1.0\n",
      "Myosin-10... with .... PPP1R12A\n",
      "0.42645737528800964\n",
      "\n",
      "\n",
      "PPP1R12A... with .... P53\n",
      "0.6927043199539185\n",
      "PPP1R12A... with .... CDKN1A\n",
      "0.7770805358886719\n",
      "PPP1R12A... with .... Myoglobin\n",
      "0.18204271793365479\n",
      "PPP1R12A... with .... CREB3\n",
      "0.6908844113349915\n",
      "PPP1R12A... with .... Myosin-10\n",
      "0.42645737528800964\n",
      "PPP1R12A... with .... PPP1R12A\n",
      "1.0\n",
      "\n",
      "\n"
     ]
    }
   ],
   "source": [
    "'''\n",
    "P53 and CDKN1A together in TP53 pathway\n",
    "CDKN1A and CREB3 together in Parathyroid hormone synthesis, secretion and action pathway\n",
    "Myosin-10 and PPP1R12A together in Regulation of actin cytoskeleton pathway\n",
    "\n",
    "Peroxidative interaction of myoglobin and myosin discovered\n",
    "\n",
    "CREB3 interaction with  RPRM\treprimo, TP53 dependent G2 arrest mediator candidate discovered\n",
    "'''\n",
    "\n",
    "for i in range(len(embeddings)):\n",
    "    for j in range(len(embeddings)):\n",
    "        print(similarity_test_input_names[i] + \"... with .... \" + similarity_test_input_names[j])\n",
    "        print(cos_sim(embeddings[i],embeddings[j]).item())\n",
    "    print(\"\\n\")\n",
    "\n"
   ]
  },
  {
   "cell_type": "code",
   "execution_count": null,
   "metadata": {},
   "outputs": [],
   "source": []
  }
 ],
 "metadata": {
  "kernelspec": {
   "display_name": "Python 3",
   "language": "python",
   "name": "python3"
  },
  "language_info": {
   "codemirror_mode": {
    "name": "ipython",
    "version": 3
   },
   "file_extension": ".py",
   "mimetype": "text/x-python",
   "name": "python",
   "nbconvert_exporter": "python",
   "pygments_lexer": "ipython3",
   "version": "3.7.1"
  }
 },
 "nbformat": 4,
 "nbformat_minor": 2
}
