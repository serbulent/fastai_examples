{
 "cells": [
  {
   "cell_type": "code",
   "execution_count": 1,
   "metadata": {},
   "outputs": [],
   "source": [
    "from fastai import *\n",
    "from fastai.text import *\n",
    "from fastai.datasets import *\n",
    "from pathlib import Path\n",
    "import html\n",
    "import fastai"
   ]
  },
  {
   "cell_type": "code",
   "execution_count": 2,
   "metadata": {},
   "outputs": [
    {
     "name": "stdout",
     "output_type": "stream",
     "text": [
      "Cuda available\n",
      "PyTorch version:  1.0.1.post2\n"
     ]
    }
   ],
   "source": [
    "# Check that the latest 1.0.0 build of PyTorch has been installed \n",
    "# alongside fastai\n",
    "import torch\n",
    "print(\"Cuda available\" if torch.cuda.is_available() is True else \"CPU\")\n",
    "print(\"PyTorch version: \", torch.__version__)"
   ]
  },
  {
   "cell_type": "code",
   "execution_count": 3,
   "metadata": {},
   "outputs": [],
   "source": [
    "PATH=Path('/home/dell/Code/fastai_examples/pubmed-rct-200k/')\n",
    "PATH.mkdir(exist_ok=True)\n",
    "DATA_PATH=Path('/home/dell/Code/fastai_examples/data/pubmed-rct-200k')\n",
    "DATA_PATH.mkdir(exist_ok=True)"
   ]
  },
  {
   "cell_type": "code",
   "execution_count": 4,
   "metadata": {},
   "outputs": [],
   "source": [
    "#path = untar_data(\"http://files.fast.ai/data/examples/imdb_sample.tgz\",dest=DATA_PATH)\n",
    "#path = Path('/home/dell/Code/fastai_examples/data/imdb_sample/')"
   ]
  },
  {
   "cell_type": "code",
   "execution_count": 5,
   "metadata": {},
   "outputs": [
    {
     "data": {
      "text/html": [
       "<div>\n",
       "<style scoped>\n",
       "    .dataframe tbody tr th:only-of-type {\n",
       "        vertical-align: middle;\n",
       "    }\n",
       "\n",
       "    .dataframe tbody tr th {\n",
       "        vertical-align: top;\n",
       "    }\n",
       "\n",
       "    .dataframe thead th {\n",
       "        text-align: right;\n",
       "    }\n",
       "</style>\n",
       "<table border=\"1\" class=\"dataframe\">\n",
       "  <thead>\n",
       "    <tr style=\"text-align: right;\">\n",
       "      <th></th>\n",
       "      <th>label</th>\n",
       "      <th>text</th>\n",
       "    </tr>\n",
       "  </thead>\n",
       "  <tbody>\n",
       "    <tr>\n",
       "      <th>0</th>\n",
       "      <td>BACKGROUND</td>\n",
       "      <td>Many pathogenic processes and diseases are the...</td>\n",
       "    </tr>\n",
       "    <tr>\n",
       "      <th>1</th>\n",
       "      <td>BACKGROUND</td>\n",
       "      <td>It was recently demonstrated that supraphysiol...</td>\n",
       "    </tr>\n",
       "    <tr>\n",
       "      <th>2</th>\n",
       "      <td>BACKGROUND</td>\n",
       "      <td>In the present study , we examined the associa...</td>\n",
       "    </tr>\n",
       "    <tr>\n",
       "      <th>3</th>\n",
       "      <td>BACKGROUND</td>\n",
       "      <td>In addition , we compared plasma levels of MAp...</td>\n",
       "    </tr>\n",
       "    <tr>\n",
       "      <th>4</th>\n",
       "      <td>METHODS</td>\n",
       "      <td>A total of 192 MI patients and 140 control per...</td>\n",
       "    </tr>\n",
       "  </tbody>\n",
       "</table>\n",
       "</div>"
      ],
      "text/plain": [
       "        label                                               text\n",
       "0  BACKGROUND  Many pathogenic processes and diseases are the...\n",
       "1  BACKGROUND  It was recently demonstrated that supraphysiol...\n",
       "2  BACKGROUND  In the present study , we examined the associa...\n",
       "3  BACKGROUND  In addition , we compared plasma levels of MAp...\n",
       "4     METHODS  A total of 192 MI patients and 140 control per..."
      ]
     },
     "execution_count": 5,
     "metadata": {},
     "output_type": "execute_result"
    }
   ],
   "source": [
    "testData = pd.read_csv(DATA_PATH/'test.txt', sep=\"\\t\", header=None, comment='#')\n",
    "testData.columns = [\"label\", \"text\"]\n",
    "testData.dropna(inplace=True)\n",
    "testData.head()"
   ]
  },
  {
   "cell_type": "code",
   "execution_count": 6,
   "metadata": {},
   "outputs": [
    {
     "data": {
      "text/html": [
       "<div>\n",
       "<style scoped>\n",
       "    .dataframe tbody tr th:only-of-type {\n",
       "        vertical-align: middle;\n",
       "    }\n",
       "\n",
       "    .dataframe tbody tr th {\n",
       "        vertical-align: top;\n",
       "    }\n",
       "\n",
       "    .dataframe thead th {\n",
       "        text-align: right;\n",
       "    }\n",
       "</style>\n",
       "<table border=\"1\" class=\"dataframe\">\n",
       "  <thead>\n",
       "    <tr style=\"text-align: right;\">\n",
       "      <th></th>\n",
       "      <th>label</th>\n",
       "      <th>text</th>\n",
       "    </tr>\n",
       "  </thead>\n",
       "  <tbody>\n",
       "    <tr>\n",
       "      <th>0</th>\n",
       "      <td>BACKGROUND</td>\n",
       "      <td>The emergence of HIV as a chronic condition me...</td>\n",
       "    </tr>\n",
       "    <tr>\n",
       "      <th>1</th>\n",
       "      <td>BACKGROUND</td>\n",
       "      <td>This paper describes the design and evaluation...</td>\n",
       "    </tr>\n",
       "    <tr>\n",
       "      <th>2</th>\n",
       "      <td>METHODS</td>\n",
       "      <td>This study is designed as a randomised control...</td>\n",
       "    </tr>\n",
       "    <tr>\n",
       "      <th>3</th>\n",
       "      <td>METHODS</td>\n",
       "      <td>The intervention group will participate in the...</td>\n",
       "    </tr>\n",
       "    <tr>\n",
       "      <th>4</th>\n",
       "      <td>METHODS</td>\n",
       "      <td>The program is based on self-efficacy theory a...</td>\n",
       "    </tr>\n",
       "  </tbody>\n",
       "</table>\n",
       "</div>"
      ],
      "text/plain": [
       "        label                                               text\n",
       "0  BACKGROUND  The emergence of HIV as a chronic condition me...\n",
       "1  BACKGROUND  This paper describes the design and evaluation...\n",
       "2     METHODS  This study is designed as a randomised control...\n",
       "3     METHODS  The intervention group will participate in the...\n",
       "4     METHODS  The program is based on self-efficacy theory a..."
      ]
     },
     "execution_count": 6,
     "metadata": {},
     "output_type": "execute_result"
    }
   ],
   "source": [
    "trainData = pd.read_csv(DATA_PATH/'train.txt', sep=\"\\t\", header=None, comment='#')\n",
    "trainData.columns = [\"label\", \"text\"]\n",
    "trainData.dropna(inplace=True)\n",
    "trainData.head()"
   ]
  },
  {
   "cell_type": "code",
   "execution_count": 7,
   "metadata": {},
   "outputs": [],
   "source": [
    "#df = pd.read_csv(path/'texts.csv')\n",
    "#df.head()"
   ]
  },
  {
   "cell_type": "code",
   "execution_count": 8,
   "metadata": {},
   "outputs": [],
   "source": [
    "dataProcess = False\n",
    "modelTrain = False"
   ]
  },
  {
   "cell_type": "code",
   "execution_count": 9,
   "metadata": {},
   "outputs": [],
   "source": [
    "if dataProcess:\n",
    "  # Language model data\n",
    "  data_lm = TextLMDataBunch.from_df(PATH,train_df=trainData, valid_df = testData)\n",
    "  data_lm.save(PATH/'data_lm_export.pkl')\n",
    "  # Classifier model data\n",
    "  data_clas = TextClasDataBunch.from_df(PATH, train_df=trainData,valid_df = testData , \\\n",
    "                                        vocab=data_lm.train_ds.vocab, bs=32)\n",
    "  data_clas.save(PATH/'data_clas_export.pkl')\n",
    "else:\n",
    "  data_lm = load_data(PATH, fname='data_lm_export.pkl')\n",
    "  data_clas = load_data(PATH, fname='data_clas_export.pkl', bs=16)"
   ]
  },
  {
   "cell_type": "code",
   "execution_count": 10,
   "metadata": {
    "scrolled": false
   },
   "outputs": [
    {
     "data": {
      "text/html": [],
      "text/plain": [
       "<IPython.core.display.HTML object>"
      ]
     },
     "metadata": {},
     "output_type": "display_data"
    },
    {
     "name": "stdout",
     "output_type": "stream",
     "text": [
      "LR Finder is complete, type {learner_name}.recorder.plot() to see the graph.\n"
     ]
    },
    {
     "data": {
      "image/png": "[encoded data removed]",
      "text/plain": [
       "<Figure size 432x288 with 1 Axes>"
      ]
     },
     "metadata": {
      "needs_background": "light"
     },
     "output_type": "display_data"
    }
   ],
   "source": [
    "learn = language_model_learner(data_lm, AWD_LSTM, drop_mult=0.5, pretrained=False)\n",
    "learn.lr_find()\n",
    "learn.recorder.plot()"
   ]
  },
  {
   "cell_type": "code",
   "execution_count": 11,
   "metadata": {
    "scrolled": true
   },
   "outputs": [],
   "source": [
    "if modelTrain:\n",
    "    preTrainedWt103Path = Path('/home/dell/Code/fastai_examples/data/models/wt103')\n",
    "    learn.load_pretrained(wgts_fname = preTrainedWt103Path/'fwd_wt103.h5', itos_fname = preTrainedWt103Path/'itos_wt103.pkl', strict=False )\n",
    "    #learn.load_encoder(name=preTrainedWt103Path/'fwd_wt103_enc.h5')\n",
    "    # all layers now trainable\n",
    "    learn.unfreeze()\n",
    "    # optionally, separate LR and WD for each group\n",
    "    learn.fit_one_cycle(1, max_lr=(1e-5, 1e-4, 1e-3, 1e-2), wd=(1e-4,1e-4,1e-4,1e-1))\n",
    "    \n",
    "    learn.fit_one_cycle(1, 1e-2)\n",
    "    learn.freeze()\n",
    "    pathModel = learn.save(PATH/\"trained_model_unfreeze\")\n",
    "    #pathModel = learn.save(PATH/\"trained_model\")\n",
    "else:\n",
    "    learn = language_model_learner(data_lm, AWD_LSTM, drop_mult=0.5, pretrained=False)\n",
    "    learn.load(PATH/\"trained_model\")"
   ]
  },
  {
   "cell_type": "code",
   "execution_count": 12,
   "metadata": {},
   "outputs": [],
   "source": [
    "learn.freeze()"
   ]
  },
  {
   "cell_type": "code",
   "execution_count": 13,
   "metadata": {},
   "outputs": [
    {
     "data": {
      "text/plain": [
       "SequentialRNN(\n",
       "  (0): AWD_LSTM(\n",
       "    (encoder): Embedding(60003, 400, padding_idx=1)\n",
       "    (encoder_dp): EmbeddingDropout(\n",
       "      (emb): Embedding(60003, 400, padding_idx=1)\n",
       "    )\n",
       "    (rnns): ModuleList(\n",
       "      (0): WeightDropout(\n",
       "        (module): LSTM(400, 1150, batch_first=True)\n",
       "      )\n",
       "      (1): WeightDropout(\n",
       "        (module): LSTM(1150, 1150, batch_first=True)\n",
       "      )\n",
       "      (2): WeightDropout(\n",
       "        (module): LSTM(1150, 400, batch_first=True)\n",
       "      )\n",
       "    )\n",
       "    (input_dp): RNNDropout()\n",
       "    (hidden_dps): ModuleList(\n",
       "      (0): RNNDropout()\n",
       "      (1): RNNDropout()\n",
       "      (2): RNNDropout()\n",
       "    )\n",
       "  )\n",
       "  (1): LinearDecoder(\n",
       "    (decoder): Linear(in_features=400, out_features=60003, bias=True)\n",
       "    (output_dp): RNNDropout()\n",
       "  )\n",
       ")"
      ]
     },
     "execution_count": 13,
     "metadata": {},
     "output_type": "execute_result"
    }
   ],
   "source": [
    "learn.model"
   ]
  },
  {
   "cell_type": "code",
   "execution_count": 14,
   "metadata": {},
   "outputs": [
    {
     "ename": "TypeError",
     "evalue": "'AWD_LSTM' object does not support indexing",
     "output_type": "error",
     "traceback": [
      "\u001b[0;31m---------------------------------------------------------------------------\u001b[0m",
      "\u001b[0;31mTypeError\u001b[0m                                 Traceback (most recent call last)",
      "\u001b[0;32m<ipython-input-14-6225d162aea2>\u001b[0m in \u001b[0;36m<module>\u001b[0;34m\u001b[0m\n\u001b[0;32m----> 1\u001b[0;31m \u001b[0mlearn\u001b[0m\u001b[0;34m.\u001b[0m\u001b[0mmodel\u001b[0m\u001b[0;34m[\u001b[0m\u001b[0;36m0\u001b[0m\u001b[0;34m]\u001b[0m\u001b[0;34m[\u001b[0m\u001b[0;36m0\u001b[0m\u001b[0;34m]\u001b[0m\u001b[0;34m[\u001b[0m\u001b[0;36m2\u001b[0m\u001b[0;34m]\u001b[0m\u001b[0;34m[\u001b[0m\u001b[0;36m0\u001b[0m\u001b[0;34m]\u001b[0m\u001b[0;34m\u001b[0m\u001b[0;34m\u001b[0m\u001b[0m\n\u001b[0m",
      "\u001b[0;31mTypeError\u001b[0m: 'AWD_LSTM' object does not support indexing"
     ]
    }
   ],
   "source": [
    "learn.model[0][0][2][0]"
   ]
  },
  {
   "cell_type": "code",
   "execution_count": 20,
   "metadata": {},
   "outputs": [
    {
     "data": {
      "text/plain": [
       "'actin is an important protein  in hiv prevention . xxbos Mean arterial blood pressure was similar among study groups . xxbos However , the RESPONSIBILITY inhibitor is an alternative to ROUTINE in first - episode schizophrenia patients . xxbos Tubular aggregometry was performed by HPLC , and we performed'"
      ]
     },
     "execution_count": 20,
     "metadata": {},
     "output_type": "execute_result"
    }
   ],
   "source": [
    "learn.predict(\"actin is an important protein \", n_words=50)"
   ]
  },
  {
   "cell_type": "code",
   "execution_count": 21,
   "metadata": {},
   "outputs": [],
   "source": [
    "x_inp = [\"i like apples\",\n",
    "         \"i want to buy some apples\",\n",
    "         \"where is your cell phone\",\n",
    "        \"buy me some apples\"]"
   ]
  },
  {
   "cell_type": "code",
   "execution_count": 22,
   "metadata": {},
   "outputs": [],
   "source": [
    "x_inp2 = [\"Apple dog Apple dog Apple dog Apple Apple Apple Apple Apple Apple\",\n",
    "         \"phone dog phone dog phone dog phone phone dog phone dog phone dog\",\n",
    "         \"cat tree cat tree cat tree cat tree cat tree cat tree tree cat cat tree cat\"]"
   ]
  },
  {
   "cell_type": "code",
   "execution_count": 23,
   "metadata": {},
   "outputs": [],
   "source": [
    "x_inp3 = [\"cancer\",\n",
    "         \"finger\",\n",
    "          \"actin\",\n",
    "         \"tumor\",\n",
    "         \"hand\",\n",
    "         \"kras\",\n",
    "         \"filament\"]"
   ]
  },
  {
   "cell_type": "code",
   "execution_count": 24,
   "metadata": {},
   "outputs": [],
   "source": [
    "x_inp4 = [\"HLA-F\",\n",
    "          #skeleton\n",
    "         \"TFAP2A\",\n",
    "          #immune         \n",
    "         \"KIR2DL4\",\n",
    "          #skeleton\n",
    "         \"CHST11\",\n",
    "           #immune \n",
    "         \"ARRB2\", \n",
    "          #skeleton\n",
    "         \"SIX2\",\n",
    "          #immune\n",
    "         \"LGALS9\",\n",
    "          #skeleton\n",
    "         \"TULP3\",\n",
    "          #immune \n",
    "         \"SERPINB9\",\n",
    "          #skeleton\n",
    "         \"SMAD3\",\n",
    "          #immune \n",
    "         \"MICA\",\n",
    "          #skeleton\n",
    "         \"GNAS\"]"
   ]
  },
  {
   "cell_type": "code",
   "execution_count": 25,
   "metadata": {},
   "outputs": [],
   "source": [
    "x_inp5 = [\n",
    "          #skeleton\n",
    "         \"TFAP2A\",\n",
    "          #skeleton\n",
    "         \"GNAS\",\n",
    "          #skeleton\n",
    "         \"CHST11\",\n",
    "          #skeleton\n",
    "         \"SMAD3\",\n",
    "          #skeleton\n",
    "         \"SIX2\",\n",
    "          #skeleton\n",
    "         \"TULP3\",\n",
    "          #immune \n",
    "          \"HLA-F\",\n",
    "         #immune \n",
    "         \"ARRB2\", \n",
    "          #immune\n",
    "         \"LGALS9\",\n",
    "          #immune \n",
    "         \"SERPINB9\",\n",
    "          #immune \n",
    "         \"MICA\",\n",
    "          #immune         \n",
    "         \"KIR2DL4\"\n",
    "]"
   ]
  },
  {
   "cell_type": "code",
   "execution_count": 26,
   "metadata": {},
   "outputs": [],
   "source": [
    "x_inp6 = [\"there is no comparison here. you are comparing apples to oranges\",\n",
    "         \"i compared the prices of apples and oranges at walmart and kroger stores\",\n",
    "         \"i don't see anything common between these two categories.\"]"
   ]
  },
  {
   "cell_type": "markdown",
   "metadata": {},
   "source": [
    "Elemanların sırası değişince cos_sim de değişiyor !!!"
   ]
  },
  {
   "cell_type": "code",
   "execution_count": 27,
   "metadata": {},
   "outputs": [],
   "source": [
    "x_inp7 = [\"king\",\n",
    "         \"woman\",\n",
    "          \"man\",\n",
    "         \"queen\"\n",
    "         ]"
   ]
  },
  {
   "cell_type": "code",
   "execution_count": 28,
   "metadata": {},
   "outputs": [],
   "source": [
    "inputs = x_inp7"
   ]
  },
  {
   "cell_type": "code",
   "execution_count": 29,
   "metadata": {},
   "outputs": [],
   "source": [
    "import multiprocessing\n",
    "n_cpu = multiprocessing.cpu_count()"
   ]
  },
  {
   "cell_type": "code",
   "execution_count": 30,
   "metadata": {},
   "outputs": [
    {
     "data": {
      "text/plain": [
       "[['[', \"'\", 'king', \"'\", ']'],\n",
       " ['[', \"'\", 'woman', \"'\", ']'],\n",
       " ['[', \"'\", 'man', \"'\", ']'],\n",
       " ['[', \"'\", 'queen', \"'\", ']']]"
      ]
     },
     "execution_count": 30,
     "metadata": {},
     "output_type": "execute_result"
    }
   ],
   "source": [
    "tok = Tokenizer().process_all(partition_by_cores(inputs,n_cpu-1))\n",
    "tok"
   ]
  },
  {
   "cell_type": "code",
   "execution_count": 31,
   "metadata": {},
   "outputs": [
    {
     "data": {
      "text/plain": [
       "[['[', \"'\", 'king', \"'\", ']'],\n",
       " ['[', \"'\", 'woman', \"'\", ']'],\n",
       " ['[', \"'\", 'man', \"'\", ']'],\n",
       " ['[', \"'\", 'queen', \"'\", ']']]"
      ]
     },
     "execution_count": 31,
     "metadata": {},
     "output_type": "execute_result"
    }
   ],
   "source": [
    "import re \n",
    "\n",
    "filteredTokens = []\n",
    "for tokenizedWord in tok:\n",
    "    filteredToken = [token for token in tokenizedWord if not re.search('xx',token)]\n",
    "    filteredTokens.append(filteredToken)\n",
    "filteredTokens"
   ]
  },
  {
   "cell_type": "code",
   "execution_count": 32,
   "metadata": {},
   "outputs": [
    {
     "data": {
      "text/plain": [
       "[[95, 265, 10431, 265, 97],\n",
       " [95, 265, 4586, 265, 97],\n",
       " [95, 265, 6805, 265, 97],\n",
       " [95, 265, 22585, 265, 97]]"
      ]
     },
     "execution_count": 32,
     "metadata": {},
     "output_type": "execute_result"
    }
   ],
   "source": [
    "X = [[data_lm.vocab.stoi[o1] for o1 in o ] for o in filteredTokens]; X "
   ]
  },
  {
   "cell_type": "code",
   "execution_count": 33,
   "metadata": {},
   "outputs": [
    {
     "data": {
      "text/plain": [
       "[[95, 265, 10431, 265, 97],\n",
       " [95, 265, 4586, 265, 97],\n",
       " [95, 265, 6805, 265, 97],\n",
       " [95, 265, 22585, 265, 97]]"
      ]
     },
     "execution_count": 33,
     "metadata": {},
     "output_type": "execute_result"
    }
   ],
   "source": [
    "X = [element for element in X if element[2] != 0 ]; X"
   ]
  },
  {
   "cell_type": "code",
   "execution_count": 34,
   "metadata": {},
   "outputs": [],
   "source": [
    "m = learn.model"
   ]
  },
  {
   "cell_type": "code",
   "execution_count": 35,
   "metadata": {},
   "outputs": [
    {
     "data": {
      "text/plain": [
       "[10431]"
      ]
     },
     "execution_count": 35,
     "metadata": {},
     "output_type": "execute_result"
    }
   ],
   "source": [
    "X[0][2:-2]"
   ]
  },
  {
   "cell_type": "code",
   "execution_count": 36,
   "metadata": {},
   "outputs": [],
   "source": [
    "#inputs = []\n",
    "embeddings = []    \n",
    "for sentence in X:\n",
    "    #resizeLength = len(x_inp4)\n",
    "    sentenceTrimmed= sentence[2:-2]\n",
    "    resizeLength = len(sentenceTrimmed)\n",
    "    inputSentence = tensor(sentenceTrimmed).resize_(resizeLength,1)\n",
    "    # sentence encoding 400 dims. -1 is the last element that's supposed to have the final encoded state\n",
    "    tmpEmbded = m[0](inputSentence.cuda())\n",
    "    embeddings.append(tmpEmbded[0][2][0][-1])"
   ]
  },
  {
   "cell_type": "code",
   "execution_count": 37,
   "metadata": {},
   "outputs": [],
   "source": [
    "# cosine similarity - to check quality of our sentence encoder\n",
    "def cos_sim(v1,v2):\n",
    "    return F.cosine_similarity(v1.unsqueeze(0),v2.unsqueeze(0)).mean()"
   ]
  },
  {
   "cell_type": "code",
   "execution_count": 38,
   "metadata": {},
   "outputs": [
    {
     "data": {
      "text/plain": [
       "['king', 'woman', 'man', 'queen']"
      ]
     },
     "execution_count": 38,
     "metadata": {},
     "output_type": "execute_result"
    }
   ],
   "source": [
    "inputs"
   ]
  },
  {
   "cell_type": "code",
   "execution_count": 39,
   "metadata": {},
   "outputs": [
    {
     "name": "stdout",
     "output_type": "stream",
     "text": [
      "king with king\n",
      "1.0000001192092896\n",
      "king with woman\n",
      "0.5919778943061829\n",
      "king with man\n",
      "0.5772840976715088\n",
      "king with queen\n",
      "0.5018417239189148\n",
      "woman with king\n",
      "0.5919778943061829\n",
      "woman with woman\n",
      "1.0\n",
      "woman with man\n",
      "0.8415045142173767\n",
      "woman with queen\n",
      "0.4319063723087311\n",
      "man with king\n",
      "0.5772840976715088\n",
      "man with woman\n",
      "0.8415045142173767\n",
      "man with man\n",
      "1.0000001192092896\n",
      "man with queen\n",
      "0.47111737728118896\n",
      "queen with king\n",
      "0.5018417239189148\n",
      "queen with woman\n",
      "0.4319063723087311\n",
      "queen with man\n",
      "0.47111737728118896\n",
      "queen with queen\n",
      "1.000000238418579\n"
     ]
    }
   ],
   "source": [
    "i=0\n",
    "for embedding1 in embeddings:\n",
    "    j=0\n",
    "    for embedding2 in embeddings:\n",
    "        #corr = data_lm.vocab.itos[X[i][2]] + \" with \" + data_lm.vocab.itos[X[j][2]]\n",
    "        corr = inputs[i] + \" with \" + inputs[j]\n",
    "        print(corr)\n",
    "        print(cos_sim(embedding1,embedding2).item())\n",
    "        j+=1\n",
    "    i+=1"
   ]
  },
  {
   "cell_type": "markdown",
   "metadata": {},
   "source": [
    "king with king\n",
    "1.0\n",
    "king with queen\n",
    "0.8165188431739807\n",
    "king with man\n",
    "0.7117255330085754\n",
    "king with woman\n",
    "0.6742797493934631\n",
    "queen with king\n",
    "0.8165188431739807\n",
    "queen with queen\n",
    "0.9999999403953552\n",
    "queen with man\n",
    "0.8113273978233337\n",
    "queen with woman\n",
    "0.7203792929649353\n",
    "man with king\n",
    "0.7117255330085754\n",
    "man with queen\n",
    "0.8113273978233337\n",
    "man with man\n",
    "1.0000001192092896\n",
    "man with woman\n",
    "0.9140985608100891\n",
    "woman with king\n",
    "0.6742797493934631\n",
    "woman with queen\n",
    "0.7203792929649353\n",
    "woman with man\n",
    "0.9140985608100891\n",
    "woman with woman\n",
    "0.9999999403953552"
   ]
  }
 ],
 "metadata": {
  "kernelspec": {
   "display_name": "Python 3",
   "language": "python",
   "name": "python3"
  },
  "language_info": {
   "codemirror_mode": {
    "name": "ipython",
    "version": 3
   },
   "file_extension": ".py",
   "mimetype": "text/x-python",
   "name": "python",
   "nbconvert_exporter": "python",
   "pygments_lexer": "ipython3",
   "version": "3.7.1"
  }
 },
 "nbformat": 4,
 "nbformat_minor": 2
}
