{
 "cells": [
  {
   "cell_type": "code",
   "execution_count": 1,
   "metadata": {},
   "outputs": [],
   "source": [
    "from fastai import *\n",
    "from fastai.text import *\n",
    "from fastai.datasets import *\n",
    "from pathlib import Path\n",
    "import html\n",
    "import fastai"
   ]
  },
  {
   "cell_type": "code",
   "execution_count": 2,
   "metadata": {},
   "outputs": [
    {
     "name": "stdout",
     "output_type": "stream",
     "text": [
      "Cuda available\n",
      "PyTorch version:  1.0.1.post2\n"
     ]
    }
   ],
   "source": [
    "# Check that the latest 1.0.0 build of PyTorch has been installed \n",
    "# alongside fastai\n",
    "import torch\n",
    "print(\"Cuda available\" if torch.cuda.is_available() is True else \"CPU\")\n",
    "print(\"PyTorch version: \", torch.__version__)"
   ]
  },
  {
   "cell_type": "code",
   "execution_count": 3,
   "metadata": {},
   "outputs": [],
   "source": [
    "PATH=Path('/home/dell/Code/fastai_examples/pubmed-rct-200k/')\n",
    "PATH.mkdir(exist_ok=True)\n",
    "DATA_PATH=Path('/home/dell/Code/fastai_examples/data/pubmed-rct-200k')\n",
    "DATA_PATH.mkdir(exist_ok=True)"
   ]
  },
  {
   "cell_type": "code",
   "execution_count": 4,
   "metadata": {},
   "outputs": [],
   "source": [
    "#path = untar_data(\"http://files.fast.ai/data/examples/imdb_sample.tgz\",dest=DATA_PATH)\n",
    "#path = Path('/home/dell/Code/fastai_examples/data/imdb_sample/')"
   ]
  },
  {
   "cell_type": "code",
   "execution_count": 5,
   "metadata": {},
   "outputs": [
    {
     "data": {
      "text/html": [
       "<div>\n",
       "<style scoped>\n",
       "    .dataframe tbody tr th:only-of-type {\n",
       "        vertical-align: middle;\n",
       "    }\n",
       "\n",
       "    .dataframe tbody tr th {\n",
       "        vertical-align: top;\n",
       "    }\n",
       "\n",
       "    .dataframe thead th {\n",
       "        text-align: right;\n",
       "    }\n",
       "</style>\n",
       "<table border=\"1\" class=\"dataframe\">\n",
       "  <thead>\n",
       "    <tr style=\"text-align: right;\">\n",
       "      <th></th>\n",
       "      <th>label</th>\n",
       "      <th>text</th>\n",
       "    </tr>\n",
       "  </thead>\n",
       "  <tbody>\n",
       "    <tr>\n",
       "      <th>0</th>\n",
       "      <td>BACKGROUND</td>\n",
       "      <td>Many pathogenic processes and diseases are the...</td>\n",
       "    </tr>\n",
       "    <tr>\n",
       "      <th>1</th>\n",
       "      <td>BACKGROUND</td>\n",
       "      <td>It was recently demonstrated that supraphysiol...</td>\n",
       "    </tr>\n",
       "    <tr>\n",
       "      <th>2</th>\n",
       "      <td>BACKGROUND</td>\n",
       "      <td>In the present study , we examined the associa...</td>\n",
       "    </tr>\n",
       "    <tr>\n",
       "      <th>3</th>\n",
       "      <td>BACKGROUND</td>\n",
       "      <td>In addition , we compared plasma levels of MAp...</td>\n",
       "    </tr>\n",
       "    <tr>\n",
       "      <th>4</th>\n",
       "      <td>METHODS</td>\n",
       "      <td>A total of 192 MI patients and 140 control per...</td>\n",
       "    </tr>\n",
       "  </tbody>\n",
       "</table>\n",
       "</div>"
      ],
      "text/plain": [
       "        label                                               text\n",
       "0  BACKGROUND  Many pathogenic processes and diseases are the...\n",
       "1  BACKGROUND  It was recently demonstrated that supraphysiol...\n",
       "2  BACKGROUND  In the present study , we examined the associa...\n",
       "3  BACKGROUND  In addition , we compared plasma levels of MAp...\n",
       "4     METHODS  A total of 192 MI patients and 140 control per..."
      ]
     },
     "execution_count": 5,
     "metadata": {},
     "output_type": "execute_result"
    }
   ],
   "source": [
    "testData = pd.read_csv(DATA_PATH/'test.txt', sep=\"\\t\", header=None, comment='#')\n",
    "testData.columns = [\"label\", \"text\"]\n",
    "testData.dropna(inplace=True)\n",
    "testData.head()"
   ]
  },
  {
   "cell_type": "code",
   "execution_count": 6,
   "metadata": {},
   "outputs": [
    {
     "data": {
      "text/html": [
       "<div>\n",
       "<style scoped>\n",
       "    .dataframe tbody tr th:only-of-type {\n",
       "        vertical-align: middle;\n",
       "    }\n",
       "\n",
       "    .dataframe tbody tr th {\n",
       "        vertical-align: top;\n",
       "    }\n",
       "\n",
       "    .dataframe thead th {\n",
       "        text-align: right;\n",
       "    }\n",
       "</style>\n",
       "<table border=\"1\" class=\"dataframe\">\n",
       "  <thead>\n",
       "    <tr style=\"text-align: right;\">\n",
       "      <th></th>\n",
       "      <th>label</th>\n",
       "      <th>text</th>\n",
       "    </tr>\n",
       "  </thead>\n",
       "  <tbody>\n",
       "    <tr>\n",
       "      <th>0</th>\n",
       "      <td>BACKGROUND</td>\n",
       "      <td>The emergence of HIV as a chronic condition me...</td>\n",
       "    </tr>\n",
       "    <tr>\n",
       "      <th>1</th>\n",
       "      <td>BACKGROUND</td>\n",
       "      <td>This paper describes the design and evaluation...</td>\n",
       "    </tr>\n",
       "    <tr>\n",
       "      <th>2</th>\n",
       "      <td>METHODS</td>\n",
       "      <td>This study is designed as a randomised control...</td>\n",
       "    </tr>\n",
       "    <tr>\n",
       "      <th>3</th>\n",
       "      <td>METHODS</td>\n",
       "      <td>The intervention group will participate in the...</td>\n",
       "    </tr>\n",
       "    <tr>\n",
       "      <th>4</th>\n",
       "      <td>METHODS</td>\n",
       "      <td>The program is based on self-efficacy theory a...</td>\n",
       "    </tr>\n",
       "  </tbody>\n",
       "</table>\n",
       "</div>"
      ],
      "text/plain": [
       "        label                                               text\n",
       "0  BACKGROUND  The emergence of HIV as a chronic condition me...\n",
       "1  BACKGROUND  This paper describes the design and evaluation...\n",
       "2     METHODS  This study is designed as a randomised control...\n",
       "3     METHODS  The intervention group will participate in the...\n",
       "4     METHODS  The program is based on self-efficacy theory a..."
      ]
     },
     "execution_count": 6,
     "metadata": {},
     "output_type": "execute_result"
    }
   ],
   "source": [
    "trainData = pd.read_csv(DATA_PATH/'train.txt', sep=\"\\t\", header=None, comment='#')\n",
    "trainData.columns = [\"label\", \"text\"]\n",
    "trainData.dropna(inplace=True)\n",
    "trainData.head()"
   ]
  },
  {
   "cell_type": "code",
   "execution_count": 7,
   "metadata": {},
   "outputs": [],
   "source": [
    "#df = pd.read_csv(path/'texts.csv')\n",
    "#df.head()"
   ]
  },
  {
   "cell_type": "code",
   "execution_count": 8,
   "metadata": {},
   "outputs": [],
   "source": [
    "dataProcess = True\n",
    "modelTrain = True"
   ]
  },
  {
   "cell_type": "code",
   "execution_count": 9,
   "metadata": {},
   "outputs": [
    {
     "data": {
      "text/plain": [
       "\"if dataProcess:\\n  # Language model data\\n  data_lm = TextLMDataBunch.from_csv(path, 'texts.csv')\\n  # Classifier model data\\n  data_clas = TextClasDataBunch.from_csv(path, 'texts.csv', vocab=data_lm.train_ds.vocab, bs=32)\\n  data_lm.save(path/'data_lm_export.pkl')\\n  data_clas.save(path/'data_clas_export.pkl')\\nelse:\\n  data_lm = load_data(path, fname='data_lm_export.pkl')\\n  data_clas = load_data(path, fname='data_clas_export.pkl', bs=16)\\n\""
      ]
     },
     "execution_count": 9,
     "metadata": {},
     "output_type": "execute_result"
    }
   ],
   "source": [
    "'''if dataProcess:\n",
    "  # Language model data\n",
    "  data_lm = TextLMDataBunch.from_csv(path, 'texts.csv')\n",
    "  # Classifier model data\n",
    "  data_clas = TextClasDataBunch.from_csv(path, 'texts.csv', vocab=data_lm.train_ds.vocab, bs=32)\n",
    "  data_lm.save(path/'data_lm_export.pkl')\n",
    "  data_clas.save(path/'data_clas_export.pkl')\n",
    "else:\n",
    "  data_lm = load_data(path, fname='data_lm_export.pkl')\n",
    "  data_clas = load_data(path, fname='data_clas_export.pkl', bs=16)\n",
    "'''"
   ]
  },
  {
   "cell_type": "code",
   "execution_count": 10,
   "metadata": {},
   "outputs": [],
   "source": [
    "if dataProcess:\n",
    "  # Language model data\n",
    "  data_lm = TextLMDataBunch.from_df(PATH,train_df=trainData, valid_df = testData)\n",
    "  data_lm.save(PATH/'data_lm_export.pkl')\n",
    "  # Classifier model data\n",
    "  data_clas = TextClasDataBunch.from_df(PATH, train_df=trainData,valid_df = testData , \\\n",
    "                                        vocab=data_lm.train_ds.vocab, bs=32)\n",
    "  data_clas.save(PATH/'data_clas_export.pkl')\n",
    "else:\n",
    "  data_lm = load_data(PATH, fname='data_lm_export.pkl')\n",
    "  data_clas = load_data(PATH, fname='data_clas_export.pkl', bs=16)"
   ]
  },
  {
   "cell_type": "code",
   "execution_count": 11,
   "metadata": {
    "scrolled": true
   },
   "outputs": [
    {
     "data": {
      "text/html": [],
      "text/plain": [
       "<IPython.core.display.HTML object>"
      ]
     },
     "metadata": {},
     "output_type": "display_data"
    },
    {
     "name": "stdout",
     "output_type": "stream",
     "text": [
      "LR Finder is complete, type {learner_name}.recorder.plot() to see the graph.\n"
     ]
    },
    {
     "data": {
      "image/png": "[encoded data removed]",
      "text/plain": [
       "<Figure size 432x288 with 1 Axes>"
      ]
     },
     "metadata": {
      "needs_background": "light"
     },
     "output_type": "display_data"
    }
   ],
   "source": [
    "learn = language_model_learner(data_lm, AWD_LSTM, drop_mult=0.5, pretrained=False)\n",
    "learn.lr_find()\n",
    "learn.recorder.plot()"
   ]
  },
  {
   "cell_type": "code",
   "execution_count": 12,
   "metadata": {
    "scrolled": true
   },
   "outputs": [
    {
     "data": {
      "text/html": [
       "Total time: 18:15:41 <p><table border=\"1\" class=\"dataframe\">\n",
       "  <thead>\n",
       "    <tr style=\"text-align: left;\">\n",
       "      <th>epoch</th>\n",
       "      <th>train_loss</th>\n",
       "      <th>valid_loss</th>\n",
       "      <th>accuracy</th>\n",
       "      <th>time</th>\n",
       "    </tr>\n",
       "  </thead>\n",
       "  <tbody>\n",
       "    <tr>\n",
       "      <td>1</td>\n",
       "      <td>3.244871</td>\n",
       "      <td>3.125867</td>\n",
       "      <td>0.438472</td>\n",
       "      <td>54:41</td>\n",
       "    </tr>\n",
       "    <tr>\n",
       "      <td>2</td>\n",
       "      <td>3.199586</td>\n",
       "      <td>3.087472</td>\n",
       "      <td>0.439438</td>\n",
       "      <td>54:45</td>\n",
       "    </tr>\n",
       "    <tr>\n",
       "      <td>3</td>\n",
       "      <td>3.269170</td>\n",
       "      <td>3.148140</td>\n",
       "      <td>0.432299</td>\n",
       "      <td>54:47</td>\n",
       "    </tr>\n",
       "    <tr>\n",
       "      <td>4</td>\n",
       "      <td>3.327838</td>\n",
       "      <td>3.201115</td>\n",
       "      <td>0.426693</td>\n",
       "      <td>54:47</td>\n",
       "    </tr>\n",
       "    <tr>\n",
       "      <td>5</td>\n",
       "      <td>3.345096</td>\n",
       "      <td>3.219346</td>\n",
       "      <td>0.424605</td>\n",
       "      <td>54:48</td>\n",
       "    </tr>\n",
       "    <tr>\n",
       "      <td>6</td>\n",
       "      <td>3.347681</td>\n",
       "      <td>3.215792</td>\n",
       "      <td>0.424364</td>\n",
       "      <td>54:48</td>\n",
       "    </tr>\n",
       "    <tr>\n",
       "      <td>7</td>\n",
       "      <td>3.315671</td>\n",
       "      <td>3.198725</td>\n",
       "      <td>0.426330</td>\n",
       "      <td>54:47</td>\n",
       "    </tr>\n",
       "    <tr>\n",
       "      <td>8</td>\n",
       "      <td>3.299174</td>\n",
       "      <td>3.181935</td>\n",
       "      <td>0.427714</td>\n",
       "      <td>54:44</td>\n",
       "    </tr>\n",
       "    <tr>\n",
       "      <td>9</td>\n",
       "      <td>3.306831</td>\n",
       "      <td>3.166312</td>\n",
       "      <td>0.429409</td>\n",
       "      <td>54:47</td>\n",
       "    </tr>\n",
       "    <tr>\n",
       "      <td>10</td>\n",
       "      <td>3.253922</td>\n",
       "      <td>3.142540</td>\n",
       "      <td>0.431713</td>\n",
       "      <td>54:45</td>\n",
       "    </tr>\n",
       "    <tr>\n",
       "      <td>11</td>\n",
       "      <td>3.242464</td>\n",
       "      <td>3.115377</td>\n",
       "      <td>0.434898</td>\n",
       "      <td>54:48</td>\n",
       "    </tr>\n",
       "    <tr>\n",
       "      <td>12</td>\n",
       "      <td>3.208408</td>\n",
       "      <td>3.083016</td>\n",
       "      <td>0.437958</td>\n",
       "      <td>54:49</td>\n",
       "    </tr>\n",
       "    <tr>\n",
       "      <td>13</td>\n",
       "      <td>3.173644</td>\n",
       "      <td>3.048467</td>\n",
       "      <td>0.441956</td>\n",
       "      <td>54:49</td>\n",
       "    </tr>\n",
       "    <tr>\n",
       "      <td>14</td>\n",
       "      <td>3.140178</td>\n",
       "      <td>3.017956</td>\n",
       "      <td>0.445908</td>\n",
       "      <td>54:47</td>\n",
       "    </tr>\n",
       "    <tr>\n",
       "      <td>15</td>\n",
       "      <td>3.089036</td>\n",
       "      <td>2.981794</td>\n",
       "      <td>0.449002</td>\n",
       "      <td>54:45</td>\n",
       "    </tr>\n",
       "    <tr>\n",
       "      <td>16</td>\n",
       "      <td>3.047931</td>\n",
       "      <td>2.946817</td>\n",
       "      <td>0.453519</td>\n",
       "      <td>54:45</td>\n",
       "    </tr>\n",
       "    <tr>\n",
       "      <td>17</td>\n",
       "      <td>3.007490</td>\n",
       "      <td>2.914399</td>\n",
       "      <td>0.457129</td>\n",
       "      <td>54:47</td>\n",
       "    </tr>\n",
       "    <tr>\n",
       "      <td>18</td>\n",
       "      <td>2.971617</td>\n",
       "      <td>2.888991</td>\n",
       "      <td>0.460169</td>\n",
       "      <td>54:47</td>\n",
       "    </tr>\n",
       "    <tr>\n",
       "      <td>19</td>\n",
       "      <td>2.929040</td>\n",
       "      <td>2.874432</td>\n",
       "      <td>0.461796</td>\n",
       "      <td>54:48</td>\n",
       "    </tr>\n",
       "    <tr>\n",
       "      <td>20</td>\n",
       "      <td>2.911559</td>\n",
       "      <td>2.870572</td>\n",
       "      <td>0.462385</td>\n",
       "      <td>54:47</td>\n",
       "    </tr>\n",
       "  </tbody>\n",
       "</table>"
      ],
      "text/plain": [
       "<IPython.core.display.HTML object>"
      ]
     },
     "metadata": {},
     "output_type": "display_data"
    }
   ],
   "source": [
    "if modelTrain:\n",
    "    preTrainedWt103Path = Path('/home/dell/Code/fastai_examples/data/models/wt103')\n",
    "    learn = language_model_learner(data_lm, AWD_LSTM, drop_mult=0.5, pretrained=False)\n",
    "    learn.load_pretrained(wgts_fname = preTrainedWt103Path/'fwd_wt103.h5', itos_fname = preTrainedWt103Path/'itos_wt103.pkl', strict=False )\n",
    "    learn.fit_one_cycle(20, 1e-2)\n",
    "    pathModel = learn.save(PATH/\"trained_model\")\n",
    "else:\n",
    "    learn = language_model_learner(data_lm, AWD_LSTM, drop_mult=0.5, pretrained=False)\n",
    "    learn.load(PATH/\"trained_model\")"
   ]
  },
  {
   "cell_type": "code",
   "execution_count": 13,
   "metadata": {},
   "outputs": [
    {
     "data": {
      "text/plain": [
       "'TP53 is an important gene  for the response to adjuvant 396 - radiotherapy ( RT ) for the treatment of localised positive - nodes . xxbos Forty - seven patients ( selected by'"
      ]
     },
     "execution_count": 13,
     "metadata": {},
     "output_type": "execute_result"
    }
   ],
   "source": [
    "learn.predict(\"TP53 is an important gene \", n_words=30)"
   ]
  },
  {
   "cell_type": "code",
   "execution_count": 14,
   "metadata": {},
   "outputs": [],
   "source": [
    "x_inp = [\"i like apples\",\n",
    "         \"i want to buy some apples\",\n",
    "         \"where is your cell phone\"]"
   ]
  },
  {
   "cell_type": "code",
   "execution_count": 15,
   "metadata": {},
   "outputs": [],
   "source": [
    "x_inp2 = [\"Apple dog Apple dog Apple dog Apple Apple Apple Apple Apple Apple\",\n",
    "         \"phone dog phone dog phone dog phone phone dog phone dog phone dog\",\n",
    "         \"cat tree cat tree cat tree cat tree cat tree cat tree tree cat cat tree cat\"]"
   ]
  },
  {
   "cell_type": "code",
   "execution_count": 16,
   "metadata": {},
   "outputs": [],
   "source": [
    "x_inp3 = [\"apple bird phone\",\n",
    "         \"pear cat\",\n",
    "         \"dog\"]"
   ]
  },
  {
   "cell_type": "code",
   "execution_count": 17,
   "metadata": {},
   "outputs": [],
   "source": [
    "x_inp4 = [\"cancer\",\n",
    "         \"tumor\",\n",
    "         \"kras\",\n",
    "         \"serotonin\"]"
   ]
  },
  {
   "cell_type": "code",
   "execution_count": 18,
   "metadata": {},
   "outputs": [],
   "source": [
    "import multiprocessing\n",
    "\n",
    "n_cpu = multiprocessing.cpu_count()\n"
   ]
  },
  {
   "cell_type": "code",
   "execution_count": 19,
   "metadata": {},
   "outputs": [
    {
     "data": {
      "text/plain": [
       "[['[', \"'\", 'cancer', \"'\", ']'],\n",
       " ['[', \"'\", 'tumor', \"'\", ']'],\n",
       " ['[', \"'\", 'kras', \"'\", ']'],\n",
       " ['[', \"'\", 'serotonin', \"'\", ']']]"
      ]
     },
     "execution_count": 19,
     "metadata": {},
     "output_type": "execute_result"
    }
   ],
   "source": [
    "tok = Tokenizer().process_all(partition_by_cores(x_inp4,n_cpu-1))\n",
    "tok"
   ]
  },
  {
   "cell_type": "code",
   "execution_count": 20,
   "metadata": {},
   "outputs": [
    {
     "data": {
      "text/plain": [
       "[[95, 265, 213, 265, 97],\n",
       " [95, 265, 765, 265, 97],\n",
       " [95, 265, 6168, 265, 97],\n",
       " [95, 265, 2868, 265, 97]]"
      ]
     },
     "execution_count": 20,
     "metadata": {},
     "output_type": "execute_result"
    }
   ],
   "source": [
    "X = [[data_lm.vocab.stoi[o1] for o1 in o] for o in tok]; X "
   ]
  },
  {
   "cell_type": "code",
   "execution_count": 24,
   "metadata": {},
   "outputs": [],
   "source": [
    "m = learn.model"
   ]
  },
  {
   "cell_type": "code",
   "execution_count": 47,
   "metadata": {},
   "outputs": [],
   "source": [
    "inputs = []\n",
    "embeddings = []    \n",
    "for word in X:\n",
    "    #resizeLength = len(x_inp4)\n",
    "    resizeLength = len(word[2:-2])\n",
    "    inputs.append(tensor(word[2:-2]))\n",
    "    inputs[len(inputs)-1].resize_(resizeLength,1)\n",
    "    # sentence encoding 400 dims. -1 is the last element that's supposed to have the final encoded state\n",
    "    tmpEmbded = m[0](inputs[len(inputs)-1].cuda())\n",
    "    embeddings.append(tmpEmbded[0][2][0][-1])"
   ]
  },
  {
   "cell_type": "code",
   "execution_count": 27,
   "metadata": {},
   "outputs": [],
   "source": [
    "#kk0=m[0](input0.cuda())\n",
    "#kk1=m[0](input1.cuda())\n",
    "#kk2=m[0](input2.cuda())\n",
    "#kk3=m[0](input3.cuda())"
   ]
  },
  {
   "cell_type": "code",
   "execution_count": 29,
   "metadata": {},
   "outputs": [],
   "source": [
    "#kk0 = (kk0[0][2][0][-1]) # 1st sentence encoding 400 dims. -1 is the last element that's supposed to have the final encoded state\n",
    "#kk1 = (kk1[0][2][0][-1]) # 2nd sentence encoding 400 dims\n",
    "#kk2 = (kk2[0][2][0][-1]) # 3rd sentence encoding 400 dims\n",
    "#kk3 = (kk3[0][2][0][-1]) # 4rd sentence encoding 400 dims"
   ]
  },
  {
   "cell_type": "code",
   "execution_count": 48,
   "metadata": {},
   "outputs": [],
   "source": [
    "# cosine similarity - to check quality of our sentence encoder\n",
    "def cos_sim(v1,v2):\n",
    "    return F.cosine_similarity(tensor(v1).unsqueeze(0),tensor(v2).unsqueeze(0)).mean()"
   ]
  },
  {
   "cell_type": "code",
   "execution_count": 49,
   "metadata": {},
   "outputs": [
    {
     "data": {
      "text/plain": [
       "['cancer', 'tumor', 'kras', 'serotonin']"
      ]
     },
     "execution_count": 49,
     "metadata": {},
     "output_type": "execute_result"
    }
   ],
   "source": [
    "x_inp4"
   ]
  },
  {
   "cell_type": "code",
   "execution_count": 51,
   "metadata": {},
   "outputs": [
    {
     "name": "stdout",
     "output_type": "stream",
     "text": [
      "tensor(1.0000, device='cuda:0', grad_fn=<MeanBackward1>)\n",
      "tensor(0.8088, device='cuda:0', grad_fn=<MeanBackward1>)\n",
      "tensor(0.7330, device='cuda:0', grad_fn=<MeanBackward1>)\n",
      "tensor(0.7499, device='cuda:0', grad_fn=<MeanBackward1>)\n",
      "tensor(0.8088, device='cuda:0', grad_fn=<MeanBackward1>)\n",
      "tensor(1., device='cuda:0', grad_fn=<MeanBackward1>)\n",
      "tensor(0.6442, device='cuda:0', grad_fn=<MeanBackward1>)\n",
      "tensor(0.5373, device='cuda:0', grad_fn=<MeanBackward1>)\n",
      "tensor(0.7330, device='cuda:0', grad_fn=<MeanBackward1>)\n",
      "tensor(0.6442, device='cuda:0', grad_fn=<MeanBackward1>)\n",
      "tensor(1.0000, device='cuda:0', grad_fn=<MeanBackward1>)\n",
      "tensor(0.7151, device='cuda:0', grad_fn=<MeanBackward1>)\n",
      "tensor(0.7499, device='cuda:0', grad_fn=<MeanBackward1>)\n",
      "tensor(0.5373, device='cuda:0', grad_fn=<MeanBackward1>)\n",
      "tensor(0.7151, device='cuda:0', grad_fn=<MeanBackward1>)\n",
      "tensor(1.0000, device='cuda:0', grad_fn=<MeanBackward1>)\n"
     ]
    }
   ],
   "source": [
    "for embedding1 in embeddings:\n",
    "    for embedding2 in embeddings:\n",
    "        print(cos_sim(embedding1,embedding2))\n",
    "        \n",
    "    "
   ]
  }
 ],
 "metadata": {
  "kernelspec": {
   "display_name": "Python 3",
   "language": "python",
   "name": "python3"
  },
  "language_info": {
   "codemirror_mode": {
    "name": "ipython",
    "version": 3
   },
   "file_extension": ".py",
   "mimetype": "text/x-python",
   "name": "python",
   "nbconvert_exporter": "python",
   "pygments_lexer": "ipython3",
   "version": "3.7.1"
  }
 },
 "nbformat": 4,
 "nbformat_minor": 2
}
