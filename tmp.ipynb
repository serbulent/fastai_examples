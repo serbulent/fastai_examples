{
 "cells": [
  {
   "cell_type": "code",
   "execution_count": 1,
   "metadata": {},
   "outputs": [],
   "source": [
    "from fastai import *\n",
    "\n",
    "# cosine similarity - to check quality of our sentence encoder\n",
    "def cos_sim(v1,v2):\n",
    "    return F.cosine_similarity(v1.unsqueeze(0),v2.unsqueeze(0))#.mean()"
   ]
  },
  {
   "cell_type": "code",
   "execution_count": null,
   "metadata": {},
   "outputs": [],
   "source": [
    "embeddings = []\n",
    "embeddings.append(tensor([1,1,1]))\n",
    "embeddings.append(tensor([5,5,5]))\n",
    "embeddings.append(tensor([1,1,2]))\n",
    "embeddings.append(tensor([5,5,6]))\n"
   ]
  },
  {
   "cell_type": "code",
   "execution_count": null,
   "metadata": {},
   "outputs": [],
   "source": [
    "inputs = []\n",
    "embeddings = []    \n",
    "for word in X:\n",
    "    #resizeLength = len(x_inp4)\n",
    "    resizeLength = len(word[2:-2])\n",
    "    inputs.append(tensor(word[2:-2]))\n",
    "    inputs[len(inputs)-1].resize_(resizeLength,1)\n",
    "    # sentence encoding 400 dims. -1 is the last element that's supposed to have the final encoded state\n",
    "    tmpEmbded = m[0](inputs[len(inputs)-1].cuda())\n",
    "    embeddings.append(tmpEmbded[0][2][0][-1])"
   ]
  }
 ],
 "metadata": {
  "kernelspec": {
   "display_name": "Python 3",
   "language": "python",
   "name": "python3"
  },
  "language_info": {
   "codemirror_mode": {
    "name": "ipython",
    "version": 3
   },
   "file_extension": ".py",
   "mimetype": "text/x-python",
   "name": "python",
   "nbconvert_exporter": "python",
   "pygments_lexer": "ipython3",
   "version": "3.7.1"
  }
 },
 "nbformat": 4,
 "nbformat_minor": 2
}
